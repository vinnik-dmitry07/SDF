{
 "cells": [
  {
   "cell_type": "code",
   "execution_count": 1,
   "metadata": {},
   "outputs": [],
   "source": [
    "import os\n",
    "import torch\n",
    "\n",
    "import numpy as np\n",
    "import matplotlib.pyplot as plt\n",
    "\n",
    "import torchvision\n",
    "from torchvision import transforms\n",
    "import scipy.ndimage\n",
    "from modules import *\n",
    "from meta_modules import *\n",
    "\n",
    "from torch.utils.data.sampler import SubsetRandomSampler"
   ]
  },
  {
   "cell_type": "markdown",
   "metadata": {},
   "source": [
    "# Set up dataset"
   ]
  },
  {
   "cell_type": "code",
   "execution_count": 2,
   "metadata": {},
   "outputs": [],
   "source": [
    "class SignedDistanceTransform:\n",
    "    def __call__(self, img_tensor):\n",
    "        # Threshold.\n",
    "        img_tensor[img_tensor<0.5] = 0.\n",
    "        img_tensor[img_tensor>=0.5] = 1.\n",
    "\n",
    "        # Compute signed distances with distance transform\n",
    "        img_tensor = img_tensor.numpy()\n",
    "\n",
    "        neg_distances = scipy.ndimage.morphology.distance_transform_edt(img_tensor)\n",
    "        sd_img = img_tensor - 1.\n",
    "        sd_img = sd_img.astype(np.uint8)\n",
    "        signed_distances = scipy.ndimage.morphology.distance_transform_edt(sd_img) - neg_distances\n",
    "        signed_distances /= float(img_tensor.shape[1])\n",
    "        signed_distances = torch.Tensor(signed_distances)\n",
    "\n",
    "        return signed_distances, torch.Tensor(img_tensor)\n",
    "\n",
    "def get_mgrid(sidelen):\n",
    "    # Generate 2D pixel coordinates from an image of sidelen x sidelen\n",
    "    pixel_coords = np.stack(np.mgrid[:sidelen,:sidelen], axis=-1)[None,...].astype(np.float32)\n",
    "    pixel_coords /= sidelen    \n",
    "    pixel_coords -= 0.5\n",
    "    pixel_coords = torch.Tensor(pixel_coords).view(-1, 2)\n",
    "    return pixel_coords\n",
    "\n",
    "class MNISTSDFDataset(torch.utils.data.Dataset):\n",
    "    def __init__(self, split, size=(256,256)):\n",
    "        self.transform = transforms.Compose([\n",
    "            transforms.Resize(size),\n",
    "            transforms.ToTensor(),\n",
    "            SignedDistanceTransform(),\n",
    "        ])\n",
    "        self.img_dataset = torchvision.datasets.MNIST('./datasets/MNIST', train=True if split == 'train' else False,\n",
    "                                                download=True)\n",
    "        self.meshgrid = get_mgrid(size[0])\n",
    "        self.im_size = size\n",
    "\n",
    "    def __len__(self):\n",
    "        return len(self.img_dataset)\n",
    "\n",
    "    def __getitem__(self, item):\n",
    "        img, digit_class = self.img_dataset[item]\n",
    "\n",
    "        signed_distance_img, binary_image = self.transform(img)\n",
    "        \n",
    "        coord_values = self.meshgrid.reshape(-1, 2)\n",
    "        signed_distance_values = signed_distance_img.reshape((-1, 1))\n",
    "        \n",
    "        indices = torch.randperm(coord_values.shape[0])\n",
    "        support_indices = indices[:indices.shape[0]//2]\n",
    "        query_indices = indices[indices.shape[0]//2:]\n",
    "\n",
    "        meta_dict = {'index': item, 'context': (coord_values[support_indices], signed_distance_values[support_indices]), 'query': (coord_values[query_indices], signed_distance_values[query_indices]), 'all': (coord_values, signed_distance_values)}\n",
    "\n",
    "        return meta_dict"
   ]
  },
  {
   "cell_type": "code",
   "execution_count": 3,
   "metadata": {},
   "outputs": [],
   "source": [
    "train_dataset = MNISTSDFDataset('train', size=(64, 64))\n",
    "train_dataloader = torch.utils.data.DataLoader(train_dataset, batch_size=128)"
   ]
  },
  {
   "cell_type": "code",
   "execution_count": 4,
   "metadata": {},
   "outputs": [],
   "source": [
    "def sdf_loss(predictions, gt):\n",
    "    return ((predictions - gt)**2).mean()\n",
    "\n",
    "\n",
    "def inner_maml_sdf_loss(predictions, gt):\n",
    "    return ((predictions - gt)**2).sum(0).mean()"
   ]
  },
  {
   "cell_type": "code",
   "execution_count": 5,
   "metadata": {},
   "outputs": [],
   "source": [
    "def lin2img(tensor):\n",
    "    batch_size, num_samples, channels = tensor.shape\n",
    "    sidelen = np.sqrt(num_samples).astype(int)\n",
    "    return tensor.permute(0,2,1).view(batch_size, channels, sidelen, sidelen)"
   ]
  },
  {
   "cell_type": "markdown",
   "metadata": {},
   "source": [
    "# Initialize Model\n",
    "\n",
    "For this task, we use a simple model with two hidden layers of 256 hidden units. We use a hypernetwork paired with an 'autodecoder', which looks up latent codes according to instance indices."
   ]
  },
  {
   "cell_type": "code",
   "execution_count": 6,
   "metadata": {},
   "outputs": [],
   "source": [
    "encoder = AutoDecoder(num_instances=len(train_dataset),\n",
    "                          latent_dim=256)\n",
    "\n",
    "hypo_module = ReLUFC(in_features=2, out_features=1, \n",
    "                     num_hidden_layers=2, hidden_features=256)\n",
    "\n",
    "hypernetwork = HyperNetwork(hyper_in_features=256,\n",
    "                            hyper_hidden_layers=1,\n",
    "                            hyper_hidden_features=256,\n",
    "                            hypo_module=hypo_module)\n",
    "\n",
    "model = SDFHyperNetwork(encoder=encoder,\n",
    "                        hypernetwork=hypernetwork,\n",
    "                        hypo_module=hypo_module).cuda()"
   ]
  },
  {
   "cell_type": "markdown",
   "metadata": {},
   "source": [
    "# Training"
   ]
  },
  {
   "cell_type": "code",
   "execution_count": null,
   "metadata": {},
   "outputs": [],
   "source": [
    "optim = torch.optim.Adam(lr=1e-4, params=model.parameters())\n",
    "\n",
    "train_losses = []\n",
    "\n",
    "for epoch in range(500):\n",
    "    for step, meta_batch in enumerate(train_dataloader):\n",
    "        model.train()\n",
    "        pred_sd, _ = model(meta_batch['index'].cuda(), meta_batch['query'][0].cuda())\n",
    "        \n",
    "        # Calculate loss on query examples\n",
    "        loss = sdf_loss(pred_sd, meta_batch['query'][1].cuda())\n",
    "        train_losses.append(loss.item())\n",
    "\n",
    "        optim.zero_grad()\n",
    "        loss.backward()\n",
    "        optim.step()\n",
    "\n",
    "        if step % 1000 == 0:\n",
    "            with torch.no_grad():\n",
    "                pred_image, _ = model(meta_batch['index'].cuda(), meta_batch['all'][0].cuda())\n",
    "            print(f\"Epoch: {epoch} \\t step: {step} \\t loss: {loss.item()}\")\n",
    "            plt.imshow(lin2img(pred_image).cpu().numpy()[0][0])\n",
    "            plt.show()"
   ]
  },
  {
   "cell_type": "code",
   "execution_count": null,
   "metadata": {},
   "outputs": [],
   "source": []
  }
 ],
 "metadata": {
  "kernelspec": {
   "display_name": "Python 3",
   "language": "python",
   "name": "python3"
  },
  "language_info": {
   "codemirror_mode": {
    "name": "ipython",
    "version": 3
   },
   "file_extension": ".py",
   "mimetype": "text/x-python",
   "name": "python",
   "nbconvert_exporter": "python",
   "pygments_lexer": "ipython3",
   "version": "3.6.9"
  }
 },
 "nbformat": 4,
 "nbformat_minor": 4
}